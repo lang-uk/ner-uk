{
 "cells": [
  {
   "cell_type": "code",
   "execution_count": 1,
   "metadata": {},
   "outputs": [],
   "source": [
    "PATH = \"../../\"\n",
    "\n",
    "def read_annotations(filename):\n",
    "    \"\"\"Read annotations and positions of annotations from a *.tok.ann file\"\"\"\n",
    "    anno = []\n",
    "    with open(filename, \"r\") as f:\n",
    "        for line in f.readlines():\n",
    "            annotations = line.split()\n",
    "            anno.append((annotations[1], int(annotations[2]), int(annotations[3])))\n",
    "    return anno\n",
    "\n",
    "def read_sentences(filename):\n",
    "    \"\"\"Read tokens and positions of tokens from a *.tok.txt file\"\"\"\n",
    "    sentences = []\n",
    "    pos = 0\n",
    "    with open(filename, \"r\") as f:\n",
    "        text = f.read().split(\"\\n\")\n",
    "        for line in text:\n",
    "            tokens = []\n",
    "            if len(line) == 0:\n",
    "                pos += 1\n",
    "            else:\n",
    "                line = line.split(\" \")\n",
    "                for i in range(len(line)):\n",
    "                    token = line[i]\n",
    "                    tokens.append((token, pos, pos + len(token)))\n",
    "                    pos += len(token) + 1\n",
    "                sentences.append(tokens)\n",
    "    return sentences\n",
    "\n",
    "def extract_labels(anno, sentences):\n",
    "    \"\"\"Extract labels for tokens\"\"\"\n",
    "    sent_labels = []\n",
    "    ann_id = 0\n",
    "    for tokens in sentences:\n",
    "        labels = []\n",
    "        for token in tokens:\n",
    "            if ann_id < len(anno):\n",
    "                label, beg, end = anno[ann_id]\n",
    "                if token[1] < beg:\n",
    "                    labels.append(\"O\")\n",
    "                else:\n",
    "                    if token[1] == beg:\n",
    "                        labels.append(\"B-\" + label)\n",
    "                    else:\n",
    "                        labels.append(\"I-\" + label)\n",
    "                    if token[2] == end:\n",
    "                        ann_id += 1\n",
    "        else:\n",
    "            labels.append(\"O\")\n",
    "        sent_labels.append(labels)\n",
    "    return sent_labels"
   ]
  },
  {
   "cell_type": "code",
   "execution_count": 2,
   "metadata": {},
   "outputs": [
    {
     "name": "stdout",
     "output_type": "stream",
     "text": [
      "182 80\n"
     ]
    }
   ],
   "source": [
    "dev_test = {\"dev\": [], \"test\": []}\n",
    "category = \"\"\n",
    "with open(PATH + \"doc/dev-test-split.txt\", \"r\") as f:\n",
    "    for line in f.readlines():\n",
    "        line = line.strip()\n",
    "        if line in [\"DEV\", \"TEST\"]:\n",
    "            category = line.lower()\n",
    "        elif len(line) == 0:\n",
    "            continue\n",
    "        else:\n",
    "            dev_test[category].append(line)\n",
    "\n",
    "print(len(dev_test[\"dev\"]), len(dev_test[\"test\"]))"
   ]
  },
  {
   "cell_type": "code",
   "execution_count": 3,
   "metadata": {},
   "outputs": [],
   "source": [
    "train_sentences, test_sentences, train_labels, test_labels = [], [], [], []\n",
    "\n",
    "for filename in dev_test[\"dev\"]:\n",
    "    sentences = read_sentences(PATH + \"data/\" + filename + \".txt\")\n",
    "    train_sentences += sentences\n",
    "    train_labels += extract_labels(read_annotations(PATH + \"data/\" + filename + \".ann\"), sentences)\n",
    "\n",
    "for filename in dev_test[\"test\"]:\n",
    "    sentences = read_sentences(PATH + \"data/\" + filename + \".txt\")\n",
    "    test_sentences += sentences\n",
    "    test_labels += extract_labels(read_annotations(PATH + \"data/\" + filename + \".ann\"), sentences)"
   ]
  },
  {
   "cell_type": "code",
   "execution_count": 4,
   "metadata": {},
   "outputs": [],
   "source": [
    "with open(\"dev.txt\", \"w\") as f:\n",
    "    iob_sents = []\n",
    "    for (sentence, lables) in zip(train_sentences, train_labels):\n",
    "        iob_sents.append(\"\\n\".join([i[0] + \" \" + j for (i, j) in zip(sentence, lables)]))\n",
    "    f.write(\"\\n\\n\".join(iob_sents))\n",
    "\n",
    "with open(\"test.txt\", \"w\") as f:\n",
    "    iob_sents = []\n",
    "    for (sentence, lables) in zip(test_sentences, test_labels):\n",
    "        iob_sents.append(\"\\n\".join([i[0] + \" \" + j for (i, j) in zip(sentence, lables)]))\n",
    "    f.write(\"\\n\\n\".join(iob_sents))"
   ]
  },
  {
   "cell_type": "code",
   "execution_count": null,
   "metadata": {},
   "outputs": [],
   "source": []
  }
 ],
 "metadata": {
  "kernelspec": {
   "display_name": "Python 3",
   "language": "python",
   "name": "python3"
  },
  "language_info": {
   "codemirror_mode": {
    "name": "ipython",
    "version": 3
   },
   "file_extension": ".py",
   "mimetype": "text/x-python",
   "name": "python",
   "nbconvert_exporter": "python",
   "pygments_lexer": "ipython3",
   "version": "3.6.0"
  }
 },
 "nbformat": 4,
 "nbformat_minor": 2
}
