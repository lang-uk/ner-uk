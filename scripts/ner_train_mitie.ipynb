{
 "cells": [
  {
   "cell_type": "code",
   "execution_count": 13,
   "id": "7412d30b",
   "metadata": {},
   "outputs": [],
   "source": [
    "from bsf_beios.bsf_to_beios import BsfInfo, parse_bsf, convert_bsf\n",
    "from mitie import *\n",
    "import os"
   ]
  },
  {
   "cell_type": "code",
   "execution_count": 2,
   "id": "2595064a",
   "metadata": {},
   "outputs": [
    {
     "name": "stdout",
     "output_type": "stream",
     "text": [
      "DEV\n",
      "['A_Biznes_Morozovskyi_Osoblyvosti_natsionalnoyi_vidpovidalnosti_2018.tok', 'A_Boryspilska_RDA_Osvita_Boryspilshchyny_biudzet_2017(ne_ZMI).tok', 'A_Doba_Bilous_Proyshov_oblasnyi_chempionat_z_boyovoho_hopaka_2012(4).tok', 'A_Dzerkalo_Kolomyyi_BF_Pokuttya_vyplatyv_zarplatnyu_2016(5).tok', \"A_Dzerkalo_Kolomyyi_Vasyl'_Nahirnyi_prezentuvav_knyzhku_2015(5).tok\", 'A_Halytska_Prosvita_Zorina_Zakokhanyi_u_skrypku_2011(5).tok', 'A_Halytskyi_korespondent_Fedoliak_Baseyn_peretikaye_do_hromady_2017(4).tok', 'A_Khreshchatyk_Zaretska_Misto_komfortne_dlia_kozhnoho_2014(5).tok', 'A_Kontrapunkt_Dudko_quintet_2011(4).tok', 'A_Kozatska_varta_Krasovskyi_Promyslovist_Zaporozkoyi_Sichi_2013(4).tok', 'A_Kozatska_varta_Magrytska_2_Viyna_pamiatnykiv_na_Luhanshchyni_2013(5).tok', 'A_Kozatska_varta_Magrytska_3_Viyna_pamiatnykiv_na_Luhanshchyni_2013(5).tok', 'A_Kraina_Zhyty_inodi_buvaye_tak_soromno,_shcho_chesnishe_–_vmerty_2014(4).tok', 'A_Krymska_svitlytsia_Khomenko_Kvitka_lomykamin_2011(5).tok', 'A_Krymska_svitlytsia_Zavoruieva_Na_onovlenii_zemli_2016(5).tok', 'A_Krytyka_Hrytsak_Polit_dzhmelia_2014(4).tok', 'A_MediaSapiens_Dolzhenkova_Novyi_symvol_Rizdva_2016(3).tok', 'A_Muzeinyi_prostir_Rozhko_Narysy_z_upravlinnya_muzeynoyu_spravoyu_2014(3).tok', 'A_Novyi_den_Zhupyna_Redaktor_z_velykoi_litery_2016(5).tok', 'A_Novynarnia_Sukhoviy_Mezha_ochikuvannia_v_Kyevi_pokazaly_film_pro_doliu_ukrayinskykh_polonenykh_ta_znyklykh_bezvisty_na_viyni_2017.tok', 'A_Numizmatyka_i_falerystyka_Khoroshunov_Novyj_vyhlyad_znayomykh_vidznak_2_2014(5).tok', 'A_Podolianyn_Budzei_Inspektor_Kamianetskoi_himnazii_2017(5).tok', \"A_Podolianyn_Dehtyar_Shcho_obhovoryuyut'_khudozhnyky-pedahohy_2015(3).tok\", 'A_Podolianyn_Krylov_Shakhrai_na_kolesakh_2017(5).tok', 'A_Podolianyn_V_aptekakh_tsinyi_2011(5).tok', 'A_Podolianyn_Yak_vtrymatysia_na_koni_-_bachyly_na_Sichi_2015(5).tok', 'A_Poltavskyi_visnyk_Zadorozhna_Shcho_kryietsia_za_dozvolom_2012(5).tok', 'A_Reporter_Frankivsk_lidyruye_za_tempamy_zrostannia_obsiahiv_budivnytstva_2018.tok', 'A_The_Ukrainians_Vlasiuk_Skontsentruysia_na_kavi_2018.tok', 'A_Tokar_ua_Kotov_Shcho_take_neyroestetyka_abo_nauka_pro_prekrasne_2018.tok', 'A_Viysko_Ukrainy_Basarab_Zmitsnyvshy_viysko_zmitsnymo_derzhavu_2014.tok', 'A_Yurydychna_hazeta_Lutskov_Yak_mozhna_pokrashchyty_zovnishniu_komunikatsiyu_sudiv_2018.tok', 'A_Zemlia_Berdychivska_Berdychivska_ODPI_povidomliaye_2016.tok', 'A_Zhurnalist_Ukrayiny_Oliynyk_Chy_potribni_rayonky_derzhavi_2017.tok', 'A_Zhurnalist_Ukrayiny_Piskun_Poriad_z_heroyizmom_bahatiokh_trapliavsia_i_nehatyv_2016.tok', 'A_Zhurnalist_Ukrayiny_Serbin_Zhurnalistyka_i_Spodarenko_ne_mozhut_zhyty_odne_bez_odnoho_2016.tok', 'A_Zhytomyrshchyna_Kaliostrenko_Apokalipsys_za_rozkladom_2016.tok', 'A_Zhytomyrshchyna_Kavun_Zhytomyrshchyna_na_shliakhu_reformuvannia_2016.tok', 'A_alumni.krok.edu.ua_Prokopenko_Vidrodzhennia_velotreku(5).tok', 'A_gazeta.lviv.ua_Na_boloto_v_Zakarpatti_povernulysia_voda_ta_bobry_2014(4).tok', 'A_guk.comr_5_finansovykh_variantiv_yaki_mozhut_buty_korysni_dla_pensioneriv_1_2013(5).tok', 'A_i-vin.info_Zaliubivska_Sim-kartky_bez_pasporta_2015(5).tok', 'A_mil.gov.ua_MOU_Pratsivnyk_ZS_Ukrayiny_Oleh_Vernyayev_zdobuvaye_2015(4).tok', 'A_misto.vn.ua_Hurt_VV_28_kvitnia_pryveze_u_Vinnytsiu_2015(5).tok', 'A_misto.vn.ua_Ubolivayemo_proty_Rosii_razom_2014(5).tok', 'A_misto.vn.ua_Yak_pozbutys_mishkiv_pid_ochyma_2014(4).tok', 'A_misto.vn.ua_Zotov_Do_trahediyi_v_Odesi_prychetni_pravookhorontsi_2014(5).tok', 'A_nashigroshi_Cherez_neroztoropnist_chynovnykiv_2014(5).tok', 'A_nashigroshi_U_firmy_zabyrayut_7_hektariv_2014(4).tok', 'A_novosti.kr.ua_Radkevych_Podviyni_standarty_dvokh_Onuliv_2014(4).tok', 'A_np.pl.ua_Na_Poltavshchyni_ochikuyut_rizke_pohirshennya_pohodnykh_umov_2014(5).tok', 'A_np.pl.ua_Syohodni_naykorotshyi_den_u_rotsi_2014(5).tok', 'B_Khaustov_495_rokiv_vid_pochatku_liuteranskoi_reformatsii_reformatsiia_tryvaie_2012_1(4).tok', 'B_Khaustov_495_rokiv_vid_pochatku_liuteranskoi_reformatsii_reformatsiia_tryvaie_2012_2(4).tok', 'B_Marusiak_Pro_Pokaiannia_2013(4).tok', 'B_Tarasenko_Maty_i_znaty_zapovidi_2014(4).tok', 'C_Lyublyu_kavu_Kavovyj_etyket_2012(5).tok', 'C_Lyublyu_kavu_Vasylyevska_Notatky_barysta_2012(4).tok', 'C_National_Geographic_Ukrayina_Faryna_Vavylonska_arka_2013_2(5).tok', 'C_National_Geographic_Ukrayina_Kutsay_Stepova_pisnia_2013_1(5).tok', 'C_National_Geographic_Ukrayina_Kutsay_Stepova_pisnia_2013_2(5).tok', 'C_National_Geographic_Ukrayina_Panova_Donbas_ta_holuby_2013_1(5).tok', 'C_National_Geographic_Ukrayina_Panova_Donbas_ta_holuby_2013_2(5).tok', 'C_National_Geographic_Ukrayina_Panova_Poklyk_predkiv_2013(5).tok', 'C_National_Geographic_Ukrayina_Shevchenko_Kolonisty_bolit_2013(5).tok', 'C_National_Geographic_Ukrayina_Voytenko_Misto_maystriv_2013_1(5).tok', 'C_National_Geographic_Ukrayina_Voytenko_Misto_maystriv_2013_2(5).tok', 'C_Numizmatyka_i_falerystyka_Khoroshunov_Novyj_vyhlyad_znayomykh_vidznak_1_2014(3).tok', 'D_Humeniuk_Maidan_Takhrir_2015_1(5).tok', 'D_Kalytko_Richka_yak_symvol_viry_2013(3).tok', 'D_Lemko_1_Tsikavynky_z_istoriyi_Lvova_2011(5).tok', 'D_Lemko_2_Tsikavynky_z_istoriyi_Lvova_2011(4).tok', 'D_Lemko_3_Tsikavynky_z_istoriyi_Lvova_2011(4).tok', 'D_Lysheha_Potsilunok_Elly_Fitsdzherald_2015(1)(5).tok', 'D_Lysheha_Potsilunok_Elly_Fitsdzherald_2015(2)(5).tok', 'D_Marynovych_Muzhnie priamostoiannia_2012(5).tok', 'D_Moskalets_1_My_buly_yak_vy_vy_budete_yak_my_2013(5).tok', 'D_Moskalets_2_Dar_bezsonnia_2013(5).tok', 'D_Nash_Format_vydav_knyhu_Ayn_Rend_2015(4).tok', 'D_Oholoshennya_Zhinochyy_dosvid_Druhoyi_svitovoyi_viyny_2015(4).tok', 'D_Prokhasko_Odnoi_i_toi_samoi_2013(4).tok', 'D_Protsiuk_Istoria_odnoho_peretvorennia_2014(5).tok', 'D_Protsiuk_Mizh_zabuttiam_i_pamiattiu_2014(5).tok', 'D_Protsiuk_Ta_shcho_zalyshylasia_v_sertsi_2014(5).tok', 'E_Orhanizatsiya_roboty_litnikh_shkil_dlya_obdarovanykh_ditey_2013(4).tok', 'E_Postanova_Pravlinnya_Natsbanku_Ukrayiny_2015(3).tok', 'E_Zakon_Ukrayiny_Pro_dobrovilne_obyednannya_terytorialnykh_hromad_2013(3).tok', 'F_Askaniya_Nova_turystychna_perlyna_Khersonshchyny_2014(3).tok', 'F_Sukhomlyn_Hryby_Ukrayiny_3_2013(5).tok', 'F_Sukhomlyn_Hryby_Ukrayiny_4_2013(4).tok', 'G_GSUM_Slovozmina_2011(5).tok', 'G_Horodenska_Slovnyk_ukrayinskoyi_slovozminy(4).tok', 'G_Humeniuk_Standartyzatsiya_v_terminolohiyi_2015(5).tok', 'G_Ohar_Dytiacha_knyha_v_ukrainskomu_sotsiumi_1_2012(4).tok', 'G_Ohar_Dytiacha_knyha_v_ukrainskomu_sotsiumi_2_2012(4).tok', 'G_Oltarzhevskyj_Osnovy_ta_metody_diyalnosti_suchasnykh_korporatyvnykh_media_1_2013(3).tok', 'H_Bublyk_Obyektno_oriyentovane_prohramuvannya_2_2015(5).tok', 'H_Bublyk_Obyektno_oriyentovane_prohramuvannya_3_2015(5).tok', 'H_Herasymiv_Zakhyst_Vitchyzny_2011(5).tok', 'H_Paliy_Dyferentsialna_psyholohia_2010(2)(4).tok', 'H_Pometun_Istoriia_Ukrainy_2012_1(5).tok', 'H_Pometun_Istoriia_Ukrainy_2012_2(4).tok', 'H_Popel_Khimiia_11_klas_2011(5).tok', 'I_Andrukhovych_Feliks_Avstriya_2014(4).tok', 'I_Andrusyak_Hoydalka_2015(5).tok', 'I_Babkina_1_Sonia_2013(5).tok', 'I_Chupa_1_10_sliv_pro_Vitchyznu(5).tok', 'I_Chupa_2_10_sliv_pro_Vitchyznu(4).tok', 'I_Dashvar_1_Byti_ye_Makar_2011(5).tok', 'I_Dashvar_1_Byti_ye_Maks_2012(5).tok', 'I_Dashvar_1_Na_zapakh_myasa_2013(5).tok', 'I_Dashvar_2_Byti_ye_Makar_2011(5).tok', 'I_Dashvar_2_Byti_ye_Maks_2012(5).tok', 'I_Dashvar_2_Na_zapakh_myasa_2013(4).tok', 'I_Dashvar_Byti_ye_Hotsyk_2012(5).tok', 'I_Denysenko_Kaleidoskop_chasu_2013(5).tok', 'I_Denysenko_Nova_stara_baba_2_2013(4).tok', 'I_Denysenko_Nova_stara_baba_3_2013(4).tok', 'I_Deresh_1_Myrotvorets_2013(3).tok', 'I_Deresh_2_Myrotvorets_2013(5).tok', 'I_Deresh_3_Myrotvorets_2013(4).tok', 'I_Deresh_Ostannia_liubov_Asury_Maharadzha_2013(5).tok', 'I_Derkachova_Teplo_tvoikh_dolon_2013(5).tok', 'I_Dochynets_Svitovan(3)_2014(3).tok', 'I_Herbish_1_Tepli_istoriyi_do_kavy_2012(5).tok', 'I_Herbish_1_Tepli_istoriyi_do_shokoladu_2013(4).tok', 'I_Herbish_2_Tepli_istoriyi_do_kavy_2012(5).tok', 'I_Herbish_2_Tepli_istoriyi_do_shokoladu_2013(5).tok', 'I_Horovyi_1_Hen_voyina_2014(5).tok', 'I_Horovyi_2_Hen_voyina_2014(5).tok', 'I_Horovyi_Nyzhche_neba_2014(4).tok', 'I_Horovyi_Pereyizd_2014(3).tok', 'I_Hranetska_Tilo_2_2013(5).tok', 'I_Hranetska_Tilo_3_2013(5).tok', 'I_Hrydin_Ne_takyj_1_2014(4).tok', 'I_Hrydin_Ne_takyj_2_2014(4).tok', 'I_Hurnytska_Melodia_kavy_2013_1(2)(5).tok', 'I_Hurnytska_Melodia_kavy_2013_1(5).tok', 'I_Ivanychuk_1_Torhovytsia_2013(5).tok', 'I_Ivanychuk_2_Torhovytsia_2013(5).tok', 'I_Kidruk_Zhorstoke_nebo_1_2014(4).tok', 'I_Kidruk_Zhorstoke_nebo_3_2014(3).tok', 'I_Kokotiukha_1_Povnyi_misiats_2014(5).tok', 'I_Kokotiukha_1_Tayemne_dzerelo_2013(3).tok', 'I_Kokotiukha_2_Povnyi_misiats_2014(5).tok', 'I_Kokotiukha_2_Tayemne_dzerelo_2013(4).tok', 'I_Kokotiukha_3_Povnyi_misiats_2014(4).tok', 'I_Kokotiukha_Chervonyi_2012(4).tok', 'I_Kolomiychuk_Lyudvysar_Ihry velmozh_1_2013(5).tok', 'I_Kolomiychuk_Lyudvysar_Ihry velmozh_2_2013(4).tok', 'I_Korniy_1_Honykhmarnyk(5).tok', 'I_Korniy_2_Honykhmarnyk(4).tok', 'I_Korniy_3_Honykhmarnyk(5).tok', 'I_Korniy_Shchodennyk_Mavky_2014_1(4).tok', 'I_Korniy_Shchodennyk_Mavky_2014_2(5).tok', 'I_Korniy_Zvorotnyy_bik_svitla_2012(4).tok', 'I_Lohvyn_1_Moyi_Dikamerony_2013(5).tok', 'I_Lohvyn_2_Moyi_Dikamerony_2013(5).tok', 'I_Lohvyn_3_Moyi_Dikamerony_2013(5).tok', 'I_Lukashchuk_Olyudneni_1_2012(4).tok', 'I_Lukashchuk_Olyudneni_2_2012(4).tok', 'I_Makarov_1_Za_chvert_desiata_2013(5).tok', 'I_Malarchuk_Biografia_vypadkovoho_chuda_2012(5).tok', 'I_Matios_Cherevychky_Bozhoyi_Materi_1_2013(5).tok', 'I_Matios_Cherevychky_Bozhoyi_Materi_2_2013(5).tok', 'I_Matios_Cherevychky_Bozhoyi_Materi_3_2013(5).tok', 'I_Matiyash_Bohdana_Kazka_pro_Nizhnist_2015(5).tok', 'I_Matiyash_Dzv._Den_Snihovyka_1_2014(4).tok', 'I_Matiyash_Dzv._Den_Snihovyka_2_2014(5).tok', 'I_Melnyk_Dalekyi_prostir_2013(2)(5).tok', 'I_Melnyk_Dalekyi_prostir_2013(3).tok', 'I_Menzatiuk_Den_shcho_ne_maye_kintsia_2012(5).tok', 'I_Musikhina_Zvychaynyk_1_2014(5).tok', 'I_Musikhina_Zvychaynyk_2_2014(5).tok', 'I_Musikhina_Zvychaynyk_3_2014(4).tok', 'I_Pahutiak_Magnat_2014(1)(5).tok', 'I_Pahutiak_Magnat_2014(2)(5).tok', 'I_Pahutiak_Urizh_ta_joho_duhy_2012(5).tok', 'I_Prokhasko_Kudy_znyklo_more_2014(5).tok', 'I_Protsiuk_1_Infektsiya(5).tok', 'I_Protsiuk_2_Infektsiya(5).tok', 'I_Protsiuk_Chorne_Yabluko_2013(5).tok']\n",
      "TEST\n",
      "['A_persha.kr.ua_Obodovska_Podorozhuyuchy_stezhkamy_Shevchenka_2014(4).tok', 'A_persha.kr.ua_Shevchenko_Kirovohradky,_obyrayte_cholovika_sered_shakhistiv_2014(4).tok', 'A_persha.kr.ua_Shevchenko_U_ramkakh_roku_Shevchenka_2014(3).tok', 'A_persha.kr.ua_U_Kirovohradi_shakhrayi_vyhotovlyayut_biometrychni_pasporty_2015(4).tok', 'A_pravda-kr.com.ua_Nesen_Dyvna_khvoroba_vbyvaye_holubiv_2013(4).tok', 'A_pravda.lutsk.ua_Onyshchenko_Merom_Lutska_bude_Volodymyr_Bondar_2015(5).tok', 'A_pravda.lutsk.ua_Verbych_Pislia_dniv_pamiati_ta_prymyrennia_2015(5).tok', 'A_prokovel.com_Kovelchanka_Tetiana_Kob_vyborola_Kubok_Ukrainy_z_boksu_2015(4).tok', 'A_regionews_sumy_Pidpryyemtsiam_dozvoliat_reyestruvatysia_sproshchentsiamy_i_platnykamy_PDV_po_Internetu_2013(4).tok', 'A_regionews_sumy_TOV_Agrobiznes_TSK_rozpochynaye_budivnytstvo_novoho_elevatora_i_ovocheskhovyshcha_2013(5).tok', 'A_regionews_sumy_Ukrayintsi_perestaly_viryty_bankam_i_pochaly_vkladaty_groshi_u_nerukhomist_2013(A).tok', 'A_regionews_sumy_V_Ukrayini_vidmovliayutsia_vid_paperovych_medychnyh_kartok_2013(5).tok', 'A_regionews_sumy_Zamist_poliklinik_tsentry_pervynnoyi_medyko_sanitarnoyi_dopomohy_2013(5).tok', 'A_selo.pl.ua_Azerbaidzanska_hromada_oblasti_2014(5).tok', 'A_selo.pl.ua_Naykrashche_v_mini-futbol_hrayut_2014(4).tok', 'A_selo.pl.ua_Shcho_obyednuye_dvokh_naybilshykh_heniyiv_2014(5).tok', 'A_sportzt.com_Startuvav_chempionat_V_Zhytomyra_z_futzalu(4).tok', 'A_sportzt.com_V_Zhytomyri_vidbuvsia_Mizhnarodnyi_turnir(3).tok', 'A_theinsider.ua_Kiyanovska_1_Ya_ne_poet_2014(4).tok', 'A_theinsider.ua_Kiyanovska_2_Ya_ne_poet_2014(4).tok', 'B_Zvernennia_Biuro_UHKTS_z_pytan_ekolohii_2013(4).tok', 'B_Zvernennia_Tradytsiinyh_Ukr_Tserkov_2011(4).tok', 'C_Vynnychuk_Halytska_kuhnya_6_2014(5).tok', 'C_Vynnychuk_Halytska_kukhnya_3_2014(5).tok', 'C_Vynnychuk_Halytska_kukhnya_4_2014(4).tok', 'C_Vynnychuk_Halytska_kukhnya_5_2014(5).tok', 'C_Vynnychuk_Halytska_kukhnya_7_2014.tok', 'C_Vynnychuk_Halytska_kukhnya_8_2014(5).tok', 'D_Shevchuk_Pro_istoryko-lit._pamiatky_2012(4).tok', 'D_Sverstiuk_Hohol_2013(5).tok', 'D_Vykhovanets_Rozmovlyaymo_ukrayinskoyu_1_2012(5).tok', 'D_Vykhovanets_Rozmovlyaymo_ukrayinskoyu_2_2012(5).tok', 'D_Yermolenko_Daleki_blyzki_1_2015(5).tok', 'D_Yermolenko_Daleki_blyzki_2_2015(4).tok', 'D_Zabuzhko_Z_mapy_knyh_i_liudei_1_2012(4).tok', 'D_Zabuzhko_Z_mapy_knyh_i_liudei_2_2012(5).tok', 'E_Zaproshennia_Lektsiia_Oleny_Synchak_Feminityvy_vid_symvolichnoi_vlady_do_spravedlyvoi_movy_Lviv_2015(3).tok', 'F_Sanina_Himnastyka_mozku_1_2014(5).tok', 'F_Sanina_Himnastyka_mozku_2_2014(5).tok', 'G_Shymko_Druhe_zhyttia_motornyh_olyv_2013(3).tok', 'G_Sokoliuk_Formuvannia_skladu_vody_2014(5).tok', 'G_Vilchynskyi_Transformatsiya_rayonnoyi_presy_2015(4).tok', 'H_Semenyuk_Ukraiinska_literatura_11_klas_2011_1(5).tok', 'H_Semenyuk_Ukraiinska_literatura_11_klas_2011_2(5).tok', 'H_Tsaryk_Ekolohiia_2011(5).tok', 'I_Protsiuk_Desiatyi_riadok_1_2014(5).tok', 'I_Protsiuk_Desiatyi_riadok_3_2014(5).tok', 'I_Romanyshyn_Lesiv_Viyna_shcho_zminyla_Rondo_2015(5).tok', 'I_Rozdobudko_Arsen_2012(4).tok', 'I_Savchuk_Natalya_Dity_perestupu_2_2015(3).tok', 'I_Savka_Osynyi_med_dykyi_2013(5).tok', 'I_Shcherbachenko_Bila_Synya_ta_inshi_2014(5).tok', 'I_Shevchuk_Krosvord_1_2014(5).tok', 'I_Shevchuk_Krosvord_2_2014(5).tok', 'I_Shevchuk_Mylyj_kohannya_tyahar_1_2014(5).tok', 'I_Shevchuk_Mylyj_kohannya_tyahar_2_2014(5).tok', 'I_Shevchuk_Teatr_prozy_2_2014(4).tok', 'I_Shkliar_1_Marusia_2014(5).tok', 'I_Shkliar_2_Marusia_2014(5).tok', 'I_Shkliar_Tin_sovy_2014(5).tok', 'I_Slonovska_Divchynka_na_kuli_2012(5).tok', 'I_Sniadanko_1_Frau_Miuller_ne_nalashtovana_platyty_bilshe_2013(5).tok', 'I_Sniadanko_2_Frau_Miuller_ne_nalashtovana_platyty_bilshe_2013(5).tok', 'I_Sokolian_Sertse_harpiyi_2013(3).tok', 'I_Stepula_1_Siomyi_arkan_2012(5).tok', 'I_Stepula_2_Siomyi_arkan_2012(5).tok', 'I_Stepula_3_Siomyi_arkan_2012(5).tok', 'I_Stryzhevska_AdLibitum_2014(5).tok', 'I_Svitova_Zhmenka_sliv_dlya_dobroho_nastroyu_1_2014(4).tok', 'I_Svitova_Zhmenka_sliv_dlya_dobroho_nastroyu_2_2014(5).tok', 'I_Svitova_Zhmenka_sliv_dlya_dobroho_nastroyu_3_2014(4).tok', 'I_Talan_Pomylka_2014(5).tok', 'I_Tarasov_Cheslav_V_temryavi_soncya_2013(3).tok', 'I_Vdovychenko_36_i_6_kotiv_2015_1(5).tok', 'I_Vdovychenko_Kupalnytsya_2_2012(5).tok', 'I_Vlasiuk_1_Kazky_lirnyka_Sashka_2011(5).tok', 'I_Vlasiuk_2_Kazky_lirnyka_Sashka_2011(5).tok', 'I_Volkov_Slid_na_vodi_2011(5).tok', 'I_Yarova_Chorno_bile_2016(5).tok', 'I_Zhadan_Mesopotamia (Mario)_2014(5).tok']\n"
     ]
    }
   ],
   "source": [
    "\n",
    "dev_files, test_files = [], []\n",
    "container = dev_files\n",
    "with open('../doc/dev-test-split.txt', 'r') as f:\n",
    "    for ln in f:\n",
    "        ln = ln.strip()\n",
    "        if ln == 'DEV':\n",
    "            container = dev_files\n",
    "        elif ln == 'TEST':\n",
    "            container = test_files\n",
    "        elif ln == '':\n",
    "            pass\n",
    "        else:\n",
    "            container.append(ln)\n",
    "            \n",
    "print('DEV')\n",
    "print(dev_files)\n",
    "print('TEST')\n",
    "print(test_files)"
   ]
  },
  {
   "cell_type": "code",
   "execution_count": 63,
   "id": "72890b37",
   "metadata": {},
   "outputs": [],
   "source": [
    "\n"
   ]
  },
  {
   "cell_type": "code",
   "execution_count": 19,
   "id": "48efd86c",
   "metadata": {},
   "outputs": [],
   "source": [
    "def read_bsf_data(f_name):\n",
    "    base_path = '../data/'\n",
    "    path = os.path.join('..', 'data', f_name)\n",
    "    # read ann\n",
    "    with open (path + '.ann', 'r') as f:\n",
    "        annotations = f.read()\n",
    "    # read tokens\n",
    "    with open (path + '.txt', 'r') as f:\n",
    "        tok_txt = f.read()\n",
    "    \n",
    "#     tokens = tok_txt.split()\n",
    "    \n",
    "    return (tok_txt, annotations)"
   ]
  },
  {
   "cell_type": "code",
   "execution_count": 76,
   "id": "1634d4a4",
   "metadata": {},
   "outputs": [
    {
     "name": "stdout",
     "output_type": "stream",
     "text": [
      "Samples 182\n"
     ]
    }
   ],
   "source": [
    "\n",
    "samples = []\n",
    "for f_name in dev_files:\n",
    "\n",
    "    annotations, tok_txt = read_bsf_data(f_name)\n",
    "    tokens = tok_txt.split()\n",
    "    annotations = parse_bsf(annotations)\n",
    "#     print(annotations)\n",
    "#     print(tokens)\n",
    "    \n",
    "    # convert char offset to token offset\n",
    "    tok_ann = []\n",
    "    tok_idx = 0\n",
    "\n",
    "    ann: BsfInfo\n",
    "    for ann in annotations:\n",
    "        tok_start = 0\n",
    "        in_token = False\n",
    "        for i in range(tok_idx, len(tokens)):\n",
    "            tok_idx = i + 1            \n",
    "            if not in_token and ann.token.startswith(tokens[i]):\n",
    "                tok_start = i\n",
    "                tok_end = i + 1\n",
    "                in_token = (len(ann.token) != len(tokens[i]))\n",
    "\n",
    "                if len(ann.token) == len(tokens[i]):\n",
    "                    break\n",
    "            elif in_token and ann.token.endswith(tokens[i]):\n",
    "                tok_end = i+1\n",
    "                in_token = False\n",
    "                break\n",
    "        tok_ann.append(BsfInfo(ann.id, ann.tag, tok_start, tok_end, ann.token))\n",
    "        \n",
    "#     print(tok_ann)\n",
    "        \n",
    "    sample = ner_training_instance(tokens)\n",
    "    for t_ann in tok_ann:\n",
    "        sample.add_entity(xrange(t_ann.start_idx, t_ann.end_idx), t_ann.tag)\n",
    "    samples.append(sample)\n",
    "        \n",
    "print(f'Samples {len(samples)}')"
   ]
  },
  {
   "cell_type": "code",
   "execution_count": null,
   "id": "fe30ed6f",
   "metadata": {},
   "outputs": [
    {
     "name": "stdout",
     "output_type": "stream",
     "text": [
      "Training to recognize 4 labels: 'ORG', 'PERS', 'MISC', 'LOC'\n",
      "Part I: train segmenter\n",
      "words in dictionary: 49649\n",
      "num features: 271\n",
      "now do training\n",
      "C:           20\n",
      "epsilon:     0.01\n",
      "num threads: 4\n",
      "cache size:  5\n",
      "max iterations: 2000\n",
      "loss per missed segment:  3\n",
      "C: 20   loss: 3 \t0.591648\n"
     ]
    }
   ],
   "source": [
    "trainer = ner_trainer(\"../../artifacts/mitie/total_word_feature_extractor.dat\")\n",
    "\n",
    "for s in samples:\n",
    "    trainer.add(s)\n",
    "\n",
    "trainer.num_threads = 4\n",
    "\n",
    "# This function does the work of training.  Note that it can take a long time to run\n",
    "# when using larger training datasets.  So be patient.\n",
    "ner = trainer.train()\n",
    "\n",
    "# Now that training is done we can save the ner object to disk like so.  This will\n",
    "# allow you to load the model back in using a statement like:\n",
    "#   ner = named_entity_extractor(\"new_ner_model.dat\").\n",
    "ner.save_to_disk(\"../../artifacts/mitie/ner_model.dat\")\n",
    "\n",
    "# But now let's try out the ner object.  It was only trained on a small dataset but it\n",
    "# has still learned a little.  So let's give it a whirl.  But first, print a list of\n",
    "# possible tags.  In this case, it is just \"person\" and \"org\".\n",
    "print (\"tags:\", ner.get_possible_ner_tags())"
   ]
  },
  {
   "cell_type": "markdown",
   "id": "b27f62c4",
   "metadata": {},
   "source": [
    "# MITIE: Results of the model"
   ]
  },
  {
   "cell_type": "code",
   "execution_count": 99,
   "id": "3bf0a17c",
   "metadata": {},
   "outputs": [],
   "source": [
    "# read test data to iob format labels\n",
    "y_test_true = []\n",
    "x_test = []\n",
    "for f_name in test_files:\n",
    "#     print(f_name)\n",
    "    txt, ann = read_bsf_data(f_name)\n",
    "    iob_lst = convert_bsf(txt, ann, 'iob').split('\\n')\n",
    "#     print(iob)\n",
    "    iob = [tok.split()[1] for tok in iob_lst if len(tok.split()) == 2]\n",
    "#     print(iob)\n",
    "    y_test_true.append(iob)\n",
    "    x_test.append(txt)\n",
    "    \n"
   ]
  },
  {
   "cell_type": "code",
   "execution_count": 102,
   "id": "d7016771",
   "metadata": {},
   "outputs": [],
   "source": [
    "model = named_entity_extractor('../../artifacts/mitie/ner_model_uber.dat')\n",
    "\n",
    "ent_lst = []\n",
    "for x in x_test:\n",
    "\n",
    "    entities = model.extract_entities(x.split()) # (range, tag, score)\n",
    "    ent_lst.append(entities)\n",
    "    \n",
    "#convert to iob\n",
    "y_res = []\n",
    "for xi in range(len(x_test)):\n",
    "    x = x_test[xi]\n",
    "    ents = ent_lst[xi]\n",
    "#     print(ents)\n",
    "    \n",
    "    tokens = x.split()\n",
    "#     print(len(tokens))\n",
    "    ent_i = 0\n",
    "    iob = []\n",
    "#     print(tokens)\n",
    "    for ti in range(len(tokens)):\n",
    "        if ent_i >= len(ents):\n",
    "            iob.append('O')\n",
    "            continue\n",
    "#         print(ent_i)\n",
    "#         print(f'{ents[ent_i]}= {ents[ent_i][0][0]}-{ents[ent_i][0][1]}, {ents[ent_i][1]}')\n",
    "        rng, tag, _ = ents[ent_i]\n",
    "        start_i, end_i = rng.start, rng.stop\n",
    "        if ent_i >= len(ents) or ti < start_i:\n",
    "            iob.append('O')\n",
    "        elif ti == start_i:\n",
    "            iob.append('B-' + tag)\n",
    "            if start_i == end_i - 1: \n",
    "                ent_i = ent_i + 1\n",
    "        elif ti > start_i and ti < end_i:\n",
    "            iob.append('I-' + tag)\n",
    "            if ti == end_i - 1:\n",
    "                ent_i = ent_i + 1\n",
    "#     print(len(iob))\n",
    "#     print(iob)\n",
    "    y_res.extend(iob)\n",
    "# print(y_res)"
   ]
  },
  {
   "cell_type": "code",
   "execution_count": 107,
   "id": "f1b1f501",
   "metadata": {},
   "outputs": [
    {
     "name": "stdout",
     "output_type": "stream",
     "text": [
      "['ORG', 'PERS', 'MISC', 'LOC']\n"
     ]
    }
   ],
   "source": [
    "# print([len(y) for y in y_test_true])\n",
    "# print([len(y) for y in y_res])\n",
    "labels = model.get_possible_ner_tags()\n",
    "print(labels)"
   ]
  },
  {
   "cell_type": "code",
   "execution_count": 110,
   "id": "68a0348e",
   "metadata": {
    "scrolled": true
   },
   "outputs": [
    {
     "name": "stdout",
     "output_type": "stream",
     "text": [
      "Classification report: MITIE \n",
      "with feature extractor trained on uber corpus\n",
      "              precision    recall  f1-score   support\n",
      "\n",
      "       B-LOC       0.66      0.79      0.72       401\n",
      "      B-MISC       0.44      0.20      0.27       240\n",
      "       B-ORG       0.41      0.26      0.32       261\n",
      "      B-PERS       0.87      0.79      0.83      1678\n",
      "       I-LOC       0.46      0.39      0.42       117\n",
      "      I-MISC       0.40      0.07      0.12       478\n",
      "       I-ORG       0.51      0.21      0.29       360\n",
      "      I-PERS       0.88      0.86      0.87       457\n",
      "           O       0.98      1.00      0.99     74598\n",
      "\n",
      "    accuracy                           0.97     78590\n",
      "   macro avg       0.62      0.51      0.54     78590\n",
      "weighted avg       0.97      0.97      0.97     78590\n",
      "\n"
     ]
    }
   ],
   "source": [
    "from sklearn.metrics import classification_report\n",
    "# y_true = ['o', 'b', 'i', 'i', 'o']\n",
    "# y_pred = ['o', 'o', 'b', 'i', 'o']\n",
    "# >>> target_names = ['class 0', 'class 1', 'class 2']\n",
    "y_test_true_flat = [item for sublist in y_test_true for item in sublist]\n",
    "# y_res = [item for sublist in y_res for item in sublist]\n",
    "# labels = model.get_possible_ner_tags()\n",
    "# sorted_labels = sorted(labels,key=lambda name: (name[1:], name[0]))\n",
    "print('Classification report: MITIE \\nwith feature extractor trained on uber corpus')\n",
    "print(classification_report(y_test_true_flat, y_res))"
   ]
  },
  {
   "cell_type": "markdown",
   "id": "9182ba28",
   "metadata": {},
   "source": [
    "# Stanza"
   ]
  },
  {
   "cell_type": "code",
   "execution_count": null,
   "id": "1623f0ce",
   "metadata": {},
   "outputs": [],
   "source": []
  },
  {
   "cell_type": "markdown",
   "id": "458b958d",
   "metadata": {},
   "source": [
    "## Basic data analysis. How classes are balanced."
   ]
  },
  {
   "cell_type": "code",
   "execution_count": 77,
   "id": "6573d1c4",
   "metadata": {},
   "outputs": [
    {
     "name": "stdout",
     "output_type": "stream",
     "text": [
      "Dev categories:\n",
      "Counter({'PERS': 2709, 'LOC': 1213, 'ORG': 519, 'MISC': 420})\n",
      "Dev files: 182\n",
      "Test categories:\n",
      "Counter({'PERS': 1678, 'LOC': 401, 'ORG': 261, 'MISC': 240})\n",
      "Test files: 80\n"
     ]
    }
   ],
   "source": [
    "from collections import Counter\n",
    "import matplotlib.pyplot as plt\n",
    "%matplotlib inline\n",
    "\n",
    "dev_bsf = []\n",
    "\n",
    "files = dev_files\n",
    "for f_name in files:\n",
    "    with open ('../data/' + f_name + '.ann', 'r') as f:\n",
    "        dev_bsf.extend(parse_bsf(f.read()))\n",
    "        \n",
    "categories = [c.tag for c in dev_bsf]\n",
    "dev_cnt = Counter(categories)\n",
    "print('Dev categories:')\n",
    "print(dev_cnt)\n",
    "print(f'Dev files: {len(dev_files)}')\n",
    "\n",
    "\n",
    "#test\n",
    "test_bsf = []\n",
    "\n",
    "files = test_files\n",
    "for f_name in files:\n",
    "    with open ('../data/' + f_name + '.ann', 'r') as f:\n",
    "        test_bsf.extend(parse_bsf(f.read()))\n",
    "        \n",
    "test_cat = [c.tag for c in test_bsf]\n",
    "test_cnt = Counter(test_cat)\n",
    "print('Test categories:')\n",
    "print(test_cnt)\n",
    "print(f'Test files: {len(test_files)}')"
   ]
  },
  {
   "cell_type": "code",
   "execution_count": 51,
   "id": "c5e6fb8b",
   "metadata": {},
   "outputs": [
    {
     "data": {
      "image/png": "[encoded data removed]",
      "text/plain": [
       "<Figure size 432x288 with 1 Axes>"
      ]
     },
     "metadata": {
      "needs_background": "light"
     },
     "output_type": "display_data"
    }
   ],
   "source": [
    "# list(dev_cnt)\n",
    "vals = dev_cnt.values()\n",
    "plt.bar(range(len(vals)), vals)\n",
    "plt.xticks(range(len(vals)), list(dev_cnt))\n",
    "plt.show()"
   ]
  },
  {
   "cell_type": "code",
   "execution_count": 52,
   "id": "3cb505ac",
   "metadata": {},
   "outputs": [
    {
     "data": {
      "image/png": "[encoded data removed]",
      "text/plain": [
       "<Figure size 432x288 with 1 Axes>"
      ]
     },
     "metadata": {
      "needs_background": "light"
     },
     "output_type": "display_data"
    }
   ],
   "source": [
    "\n",
    "vals = test_cnt.values()\n",
    "plt.bar(range(len(vals)), vals)\n",
    "plt.xticks(range(len(vals)), list(test_cnt))\n",
    "plt.show()"
   ]
  }
 ],
 "metadata": {
  "interpreter": {
   "hash": "aee8b7b246df8f9039afb4144a1f6fd8d2ca17a180786b69acc140d282b71a49"
  },
  "kernelspec": {
   "display_name": "Python 3 (ipykernel)",
   "language": "python",
   "name": "python3"
  },
  "language_info": {
   "codemirror_mode": {
    "name": "ipython",
    "version": 3
   },
   "file_extension": ".py",
   "mimetype": "text/x-python",
   "name": "python",
   "nbconvert_exporter": "python",
   "pygments_lexer": "ipython3",
   "version": "3.9.5"
  }
 },
 "nbformat": 4,
 "nbformat_minor": 5
}
